{
 "cells": [
  {
   "cell_type": "markdown",
   "id": "c0366db6",
   "metadata": {},
   "source": [
    "# This notebooks show how the networks are mapped based on a query"
   ]
  },
  {
   "cell_type": "markdown",
   "id": "c93a2d0f",
   "metadata": {},
   "source": [
    "## 1. Import libraries and laod graph"
   ]
  },
  {
   "cell_type": "code",
   "execution_count": 12,
   "id": "033e74d2",
   "metadata": {},
   "outputs": [
    {
     "name": "stdout",
     "output_type": "stream",
     "text": [
      "Graph loaded: 6800 nodes, 36695 edges\n"
     ]
    },
    {
     "data": {
      "text/plain": [
       "[('optical tiles', {'category': 'source', 'label': 'optical tiles'}),\n",
       " ('raffia', {'category': 'source', 'label': 'raffia'}),\n",
       " ('pmma (acrylic)', {'category': 'source', 'label': 'pmma (acrylic)'}),\n",
       " ('beech wood', {'category': 'source', 'label': 'beech wood'}),\n",
       " ('recycled audio tape',\n",
       "  {'category': 'source', 'label': 'recycled audio tape'})]"
      ]
     },
     "execution_count": 12,
     "metadata": {},
     "output_type": "execute_result"
    }
   ],
   "source": [
    "import networkx as nx\n",
    "import pandas as pd\n",
    "from pyvis.network import Network\n",
    "from IPython.display import IFrame, display\n",
    "\n",
    "# Load the graph you saved earlier\n",
    "# (you can use the GEXF or GraphML file)\n",
    "G = nx.read_gexf(\"materials_semantic_network.gexf\")\n",
    "\n",
    "print(f\"Graph loaded: {G.number_of_nodes()} nodes, {G.number_of_edges()} edges\")\n",
    "\n",
    "# Quick peek at some nodes\n",
    "list(G.nodes(data=True))[:5]\n"
   ]
  },
  {
   "cell_type": "markdown",
   "id": "8feb7eb7",
   "metadata": {},
   "source": [
    "## 2. Build coocurrence graph"
   ]
  },
  {
   "cell_type": "code",
   "execution_count": 5,
   "id": "4ca140af",
   "metadata": {},
   "outputs": [
    {
     "name": "stdout",
     "output_type": "stream",
     "text": [
      "Cooccurrence graph: 6800 nodes, 10753 edges\n"
     ]
    }
   ],
   "source": [
    "W1_TOL = 1e-6  # tolerance for weight ≈ 1.0\n",
    "\n",
    "def build_cooccurrence_only_graph(G):\n",
    "    H = nx.Graph()\n",
    "    for n, d in G.nodes(data=True):\n",
    "        H.add_node(n, **d)\n",
    "    for u, v, d in G.edges(data=True):\n",
    "        if d.get(\"edge_type\") == \"cooccurrence\" and abs(d.get(\"weight\",1.0) - 1.0) <= W1_TOL:\n",
    "            H.add_edge(u, v, **d)\n",
    "    return H\n",
    "\n",
    "H = build_cooccurrence_only_graph(G)\n",
    "print(f\"Cooccurrence graph: {H.number_of_nodes()} nodes, {H.number_of_edges()} edges\")\n"
   ]
  },
  {
   "cell_type": "markdown",
   "id": "994787c2",
   "metadata": {},
   "source": [
    "## 3. Helpers to get categories and neighbors"
   ]
  },
  {
   "cell_type": "code",
   "execution_count": 6,
   "id": "fb8dd1e8",
   "metadata": {},
   "outputs": [],
   "source": [
    "def node_cat(G, n):\n",
    "    return G.nodes[n].get(\"category\")\n",
    "\n",
    "def neighbors_by_cat(G, n, cat):\n",
    "    return [m for m in G.neighbors(n) if node_cat(G, m) == cat]\n",
    "\n",
    "def get_seed_role(G, seed):\n",
    "    cat = node_cat(G, seed)\n",
    "    if cat not in {\"source\", \"application\"}:\n",
    "        raise ValueError(\"Seed must be a source or application node.\")\n",
    "    return cat\n"
   ]
  },
  {
   "cell_type": "markdown",
   "id": "a0898cf3",
   "metadata": {},
   "source": [
    "## 4. Function set for a seed"
   ]
  },
  {
   "cell_type": "code",
   "execution_count": 7,
   "id": "c3b9fb29",
   "metadata": {},
   "outputs": [],
   "source": [
    "def function_set_for_seed(H, seed):\n",
    "    \"\"\"\n",
    "    Given a seed (source OR application) in H, return:\n",
    "      - its function neighbors (F_seed)\n",
    "      - the opposite end nodes (applications if seed is source, or sources if seed is application)\n",
    "      - the category of those end nodes\n",
    "    \"\"\"\n",
    "    role = get_seed_role(H, seed)\n",
    "    F_seed = neighbors_by_cat(H, seed, \"function\")\n",
    "\n",
    "    if role == \"source\":\n",
    "        end_nodes = set()\n",
    "        for f in F_seed:\n",
    "            end_nodes.update(neighbors_by_cat(H, f, \"application\"))\n",
    "        end_cat = \"application\"\n",
    "    else:\n",
    "        end_nodes = set()\n",
    "        for f in F_seed:\n",
    "            end_nodes.update(neighbors_by_cat(H, f, \"source\"))\n",
    "        end_cat = \"source\"\n",
    "\n",
    "    return F_seed, sorted(end_nodes), end_cat\n"
   ]
  },
  {
   "cell_type": "markdown",
   "id": "c77fa2a2",
   "metadata": {},
   "source": [
    "## 5. Function set similarity"
   ]
  },
  {
   "cell_type": "code",
   "execution_count": 8,
   "id": "e73822de",
   "metadata": {},
   "outputs": [],
   "source": [
    "import numpy as np\n",
    "\n",
    "def avg_function_set_similarity(G, F_a, F_b):\n",
    "    sims = []\n",
    "    for fa in F_a:\n",
    "        for fb in F_b:\n",
    "            if fa == fb:\n",
    "                sims.append(1.0)\n",
    "            elif G.has_edge(fa, fb) and G[fa][fb].get(\"edge_type\") == \"sim_function\":\n",
    "                sims.append(float(G[fa][fb].get(\"weight\", 0.0)))\n",
    "    if not sims:\n",
    "        return 0.0, 0\n",
    "    sims = np.asarray(sims, dtype=np.float32)\n",
    "    return float(sims.mean()), len(sims)\n"
   ]
  },
  {
   "cell_type": "markdown",
   "id": "a3ced79d",
   "metadata": {},
   "source": [
    "## 6. Build seed-centric subgraph"
   ]
  },
  {
   "cell_type": "code",
   "execution_count": 9,
   "id": "5fb698db",
   "metadata": {},
   "outputs": [],
   "source": [
    "FUNC_SET_SIM_THRESHOLD = 0.9  # tune this as needed\n",
    "\n",
    "def build_seed_thematic_subgraph(G, H, seed, threshold=FUNC_SET_SIM_THRESHOLD):\n",
    "    if seed not in H:\n",
    "        raise ValueError(\"Seed not found in the cooccurrence-only graph H.\")\n",
    "\n",
    "    role = get_seed_role(H, seed)\n",
    "    F_seed, end_nodes_seed, end_cat = function_set_for_seed(H, seed)\n",
    "\n",
    "    # Start subgraph\n",
    "    S = nx.Graph()\n",
    "    S.add_node(seed, **G.nodes[seed])\n",
    "\n",
    "    # Add seed functions and end nodes\n",
    "    for f in F_seed:\n",
    "        S.add_node(f, **G.nodes[f])\n",
    "        if H.has_edge(seed, f):\n",
    "            S.add_edge(seed, f, **H[seed][f])\n",
    "    for e in end_nodes_seed:\n",
    "        S.add_node(e, **G.nodes[e])\n",
    "        for f in F_seed:\n",
    "            if H.has_edge(f, e):\n",
    "                S.add_edge(f, e, **H[f][e])\n",
    "\n",
    "    # Look for candidate end nodes of same type\n",
    "    candidates = [n for n,d in H.nodes(data=True) if d.get(\"category\") == end_cat]\n",
    "    for cand in candidates:\n",
    "        if cand in end_nodes_seed:\n",
    "            continue\n",
    "        F_cand = neighbors_by_cat(H, cand, \"function\")\n",
    "        if not F_cand:\n",
    "            continue\n",
    "        avg_sim, n_pairs = avg_function_set_similarity(G, F_seed, F_cand)\n",
    "        if n_pairs > 0 and avg_sim >= threshold:\n",
    "            S.add_node(cand, **G.nodes[cand])\n",
    "            for f in F_cand:\n",
    "                S.add_node(f, **G.nodes[f])\n",
    "                if H.has_edge(f, cand):\n",
    "                    S.add_edge(f, cand, **H[f][cand])\n",
    "                # also connect to opposite nodes\n",
    "                if end_cat == \"application\":\n",
    "                    opp_nodes = neighbors_by_cat(H, f, \"source\")\n",
    "                else:\n",
    "                    opp_nodes = neighbors_by_cat(H, f, \"application\")\n",
    "                for opp in opp_nodes:\n",
    "                    S.add_node(opp, **G.nodes[opp])\n",
    "                    if H.has_edge(opp, f):\n",
    "                        S.add_edge(opp, f, **H[opp][f])\n",
    "    return S\n"
   ]
  },
  {
   "cell_type": "markdown",
   "id": "bf34f19c",
   "metadata": {},
   "source": [
    "## 7. Example run"
   ]
  },
  {
   "cell_type": "code",
   "execution_count": 10,
   "id": "5215a3ab",
   "metadata": {},
   "outputs": [
    {
     "name": "stdout",
     "output_type": "stream",
     "text": [
      "Subgraph from seed 'recycled denim': 12 nodes, 13 edges\n"
     ]
    },
    {
     "data": {
      "text/plain": [
       "[('recycled denim', {'category': 'source', 'label': 'recycled denim'}),\n",
       " ('combine-materials', {'category': 'function', 'label': 'combine-materials'}),\n",
       " ('offer-sustainability',\n",
       "  {'category': 'function', 'label': 'offer-sustainability'}),\n",
       " ('provide-aesthetics',\n",
       "  {'category': 'function', 'label': 'provide-aesthetics'}),\n",
       " ('architectural surface finish',\n",
       "  {'category': 'application', 'label': 'architectural surface finish'}),\n",
       " ('automotive interior components',\n",
       "  {'category': 'application', 'label': 'automotive interior components'}),\n",
       " ('coated textile for interior design',\n",
       "  {'category': 'application', 'label': 'coated textile for interior design'}),\n",
       " ('eco-friendly interior wall coating',\n",
       "  {'category': 'application', 'label': 'eco-friendly interior wall coating'}),\n",
       " ('interior design elements',\n",
       "  {'category': 'application', 'label': 'interior design elements'}),\n",
       " ('outdoor architectural elements',\n",
       "  {'category': 'application', 'label': 'outdoor architectural elements'})]"
      ]
     },
     "execution_count": 10,
     "metadata": {},
     "output_type": "execute_result"
    }
   ],
   "source": [
    "# pick a real node ID from your graph that is a source or application\n",
    "seed_node = \"recycled denim\"  # replace with one from your dataset\n",
    "\n",
    "S = build_seed_thematic_subgraph(G, H, seed_node, threshold=0.35)\n",
    "print(f\"Subgraph from seed '{seed_node}': {S.number_of_nodes()} nodes, {S.number_of_edges()} edges\")\n",
    "\n",
    "# Inspect what was pulled in\n",
    "list(S.nodes(data=True))[:10]\n"
   ]
  },
  {
   "cell_type": "markdown",
   "id": "57d1cee4",
   "metadata": {},
   "source": [
    "## 8. Visualization"
   ]
  },
  {
   "cell_type": "code",
   "execution_count": 14,
   "id": "89a479a1",
   "metadata": {},
   "outputs": [
    {
     "name": "stdout",
     "output_type": "stream",
     "text": [
      "materials_cooccurrence_query.html\n",
      "Graph written: materials_cooccurrence_query.html\n",
      "Legend injected into: materials_cooccurrence_query.html\n"
     ]
    },
    {
     "data": {
      "text/html": [
       "\n",
       "        <iframe\n",
       "            width=\"100%\"\n",
       "            height=\"820\"\n",
       "            src=\"materials_cooccurrence_query.html\"\n",
       "            frameborder=\"0\"\n",
       "            allowfullscreen\n",
       "            \n",
       "        ></iframe>\n",
       "        "
      ],
      "text/plain": [
       "<IPython.lib.display.IFrame at 0x112b3c550>"
      ]
     },
     "execution_count": 14,
     "metadata": {},
     "output_type": "execute_result"
    }
   ],
   "source": [
    "HTML_OUT = \"materials_cooccurrence_query.html\"\n",
    "\n",
    "net = Network(height=\"800px\", width=\"100%\", bgcolor=\"#ffffff\", notebook=True, directed=False, cdn_resources='in_line')\n",
    "net.toggle_physics(False)\n",
    "# You can fine-tune physics via options if needed:\n",
    "# net.set_options('{\"physics\":{\"solver\":\"forceAtlas2Based\",\"forceAtlas2Based\":{\"gravitationalConstant\":-50}}}')\n",
    "\n",
    "# Category colors\n",
    "COLOR_BY_CATEGORY = {\n",
    "    \"source\":      \"#1f77b4\",  # blue\n",
    "    \"function\":    \"#2ca02c\",  # green\n",
    "    \"application\": \"#d62728\",  # red\n",
    "}\n",
    "\n",
    "# Add nodes with category colors and degree-based size\n",
    "for n, d in S.nodes(data=True):\n",
    "    label = d.get(\"label\", str(n))\n",
    "    cat   = d.get(\"category\", \"unknown\")\n",
    "    color = COLOR_BY_CATEGORY.get(cat, \"#888888\")\n",
    "    size  = 10 + 2 * S.degree(n)\n",
    "\n",
    "    # Tooltip title shows category\n",
    "    title = f\"{cat.capitalize()}: {label}\"\n",
    "    net.add_node(n, label=label, color=color, title=title, size=size)\n",
    "\n",
    "# Add edges (all are co-occurrence weight=1)\n",
    "for u, v, d in S.edges(data=True):\n",
    "    et = d.get(\"edge_type\", \"cooccurrence\")\n",
    "    net.add_edge(u, v, value=1, color=\"#555555\", title=et)\n",
    "\n",
    "net.show(HTML_OUT)\n",
    "print(\"Graph written:\", HTML_OUT)\n",
    "\n",
    "from pathlib import Path\n",
    "\n",
    "overlay_html = \"\"\"\n",
    "<div id=\"legend-box\" style=\"\n",
    "  position:fixed; right:20px; bottom:20px;\n",
    "  background:#fff; border:1px solid #ccc; border-radius:6px;\n",
    "  padding:10px 12px; font: 13px/1.2 sans-serif; z-index: 999999;\n",
    "  box-shadow: 0 2px 8px rgba(0,0,0,0.15);\">\n",
    "  <div style=\"font-weight:600; margin-bottom:6px;\">Legend</div>\n",
    "  <div><span style=\"color:#4e79a7;\">&#9679;</span> Source</div>\n",
    "  <div><span style=\"color:#59a14f;\">&#9679;</span> Function</div>\n",
    "  <div><span style=\"color:#e15759;\">&#9679;</span> Application</div>\n",
    "</div>\n",
    "\"\"\"\n",
    "\n",
    "html_path = Path(HTML_OUT)\n",
    "html = html_path.read_text(encoding=\"utf-8\")\n",
    "\n",
    "# Insert the overlay just before </body>\n",
    "html = html.replace(\"</body>\", overlay_html + \"\\n</body>\")\n",
    "\n",
    "html_path.write_text(html, encoding=\"utf-8\")\n",
    "print(\"Legend injected into:\", HTML_OUT)\n",
    "\n",
    "IFrame(src=HTML_OUT, width=\"100%\", height=\"820\")"
   ]
  },
  {
   "cell_type": "code",
   "execution_count": null,
   "id": "f5f38b78",
   "metadata": {},
   "outputs": [],
   "source": []
  }
 ],
 "metadata": {
  "kernelspec": {
   "display_name": "venv",
   "language": "python",
   "name": "python3"
  },
  "language_info": {
   "codemirror_mode": {
    "name": "ipython",
    "version": 3
   },
   "file_extension": ".py",
   "mimetype": "text/x-python",
   "name": "python",
   "nbconvert_exporter": "python",
   "pygments_lexer": "ipython3",
   "version": "3.13.6"
  }
 },
 "nbformat": 4,
 "nbformat_minor": 5
}
